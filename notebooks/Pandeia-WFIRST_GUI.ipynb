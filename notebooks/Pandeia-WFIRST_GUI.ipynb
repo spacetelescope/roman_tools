{
 "cells": [
  {
   "cell_type": "markdown",
   "metadata": {},
   "source": [
    "<h3> WFIRST GUI</h3>\n",
    "If you cannot see the GUI, click Run or type shift-enter in the next cell. To reset to the default values, simply run the cell again."
   ]
  },
  {
   "cell_type": "code",
   "execution_count": null,
   "metadata": {
    "scrolled": false
   },
   "outputs": [],
   "source": [
    "from pandeia.engine import nb_utils2\n",
    "gui = nb_utils2.WFIRST_gui()\n",
    "%matplotlib inline\n",
    "gui.display"
   ]
  },
  {
   "cell_type": "code",
   "execution_count": null,
   "metadata": {},
   "outputs": [],
   "source": []
  }
 ],
 "metadata": {
  "kernelspec": {
   "display_name": "Python [conda env:pan9.2_c_3.6]",
   "language": "python",
   "name": "conda-env-pan9.2_c_3.6-py"
  },
  "language_info": {
   "codemirror_mode": {
    "name": "ipython",
    "version": 3
   },
   "file_extension": ".py",
   "mimetype": "text/x-python",
   "name": "python",
   "nbconvert_exporter": "python",
   "pygments_lexer": "ipython3",
   "version": "3.6.5"
  }
 },
 "nbformat": 4,
 "nbformat_minor": 2
}
