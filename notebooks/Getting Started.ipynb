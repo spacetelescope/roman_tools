{
 "cells": [
  {
   "cell_type": "markdown",
   "metadata": {},
   "source": [
    "# Roman Simulation Tools\n",
    "\n",
    "The Roman effort at STScI has produced software tools for use by the scientific community. This repository contains example code and instructions for WebbPSF, the PSF simulator for JWST and Roman, as well as Pandeia, the exposure time and signal-to-noise calculator for both missions.\n",
    "\n",
    "## Test your installation\n",
    "\n",
    "If the following cell executes without errors, you're good to go! (Give it a few seconds.)\n",
    "\n",
    "*To execute a cell, click in it and press **Shift-Enter**.*"
   ]
  },
  {
   "cell_type": "code",
   "execution_count": null,
   "metadata": {},
   "outputs": [],
   "source": [
    "import warnings\n",
    "warnings.filterwarnings('ignore', message='No .+ tables found')\n",
    "import pysynphot\n",
    "import webbpsf.roman\n",
    "wfi = webbpsf.roman.WFI()\n",
    "from pandeia.engine.wfirst import WFIRSTImager\n",
    "_ = WFIRSTImager(mode=\"imaging\")\n",
    "print(\"Looks like pysynphot, WebbPSF, and Pandeia installed correctly!\")"
   ]
  },
  {
   "cell_type": "code",
   "execution_count": null,
   "metadata": {},
   "outputs": [],
   "source": [
    "from pandeia.engine.wfirst import WFIRSTImager"
   ]
  },
  {
   "cell_type": "markdown",
   "metadata": {},
   "source": [
    "## WebbPSF\n",
    "\n",
    "> WebbPSF-Roman provides a customizable interface to perform point-spread function (PSF) simulations and calculations for the Wide-Field Instrument (WFI) planned for Roman. A simulated PSF provides a useful tool for predicting the observatory's performance at a particular combination of wavelength (or bandpass), field position, and pixel scale. PSFs are also an important input to simulate astronomical scenes. For example, WebbPSF-Roman PSFs are used by the Pandeia and STIPS toolkits developed at STScI.\n",
    "\n",
    "The Roman functionality in WebbPSF is summarized on the [STScI Roman software page](https://www.stsci.edu/roman/science-planning-toolbox/psf-simulation) and in the [WebbPSF documentation](https://webbpsf.readthedocs.io/en/latest/).\n",
    "\n",
    "### Notebooks\n",
    "\n",
    "  * [WebbPSF-Roman Tutorial](./blob/master/notebooks/WebbPSF-Roman_Tutorial.ipynb) — Simulate a PSF for the Roman Wide-Field Instrument (WFI) by selecting a detector position. Evaluate PSF differences between two detector positions. Shows both the WebbPSF notebook GUI and a brief example of performing calculations with the API.\n",
    "\n",
    "\n",
    "## Pandeia\n",
    "\n",
    "> Pandeia is the exposure time calculator (ETC) system that is being developed for the James Webb Space Telescope (JWST). It's based on a Python engine that calculates three-dimensional data cubes, based on user-specified spatial and spectral properties of one or more sources. The cubes are projected to a detector plane given an instrument configuration and two-dimensional pixel-by-pixel signal and noise properties are extracted. This allows for appropriate handling of realistic point spread functions (as calculated by WebbPSF), MULTIACCUM detector readouts, correlated detector readnoise, dithering, and multiple photometric and spectrscopic extraction strategies. Pandeia includes support for a wide variety of observing modes and has a highly modular, data-driven design that allows for easy extensibility to other instruments and telescopes.\n",
    "\n",
    "The WFIRST functionality in Pandeia is summarized on the [STScI WFIRST software page](http://www.stsci.edu/roman/software/Pandeia).\n",
    "\n",
    "### Notebooks\n",
    "\n",
    "  * [Pandeia-WFIRST_GUI](./blob/master/notebooks/Pandeia-WFIRST_GUI.ipynb) — Calculate exposure times and simulate detector \"postage stamps\" for scenes made up of point sources and extended sources.\n",
    "  * [Pandeia-WFIRST](./blob/master/notebooks/Pandeia-WFIRST.ipynb) — A more advanced Python-based interface for the exposure time calculator."
   ]
  },
  {
   "cell_type": "code",
   "execution_count": null,
   "metadata": {},
   "outputs": [],
   "source": []
  }
 ],
 "metadata": {
  "kernelspec": {
   "display_name": "Python 3",
   "language": "python",
   "name": "python3"
  },
  "language_info": {
   "codemirror_mode": {
    "name": "ipython",
    "version": 3
   },
   "file_extension": ".py",
   "mimetype": "text/x-python",
   "name": "python",
   "nbconvert_exporter": "python",
   "pygments_lexer": "ipython3",
   "version": "3.7.3"
  }
 },
 "nbformat": 4,
 "nbformat_minor": 2
}
