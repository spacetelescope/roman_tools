{
 "cells": [
  {
   "cell_type": "markdown",
   "metadata": {},
   "source": [
    "# Pandeia for WFIRST\n",
    "\n",
    "How to cite this code:\n",
    "\n",
    "> Klaus M. Pontoppidan ; Timothy E. Pickering ; Victoria G. Laidler ; Karoline Gilbert ; Christopher D. Sontag, et al.\n",
    "\"Pandeia: a multi-mission exposure time calculator for JWST and WFIRST\", Proc. SPIE 9910, Observatory Operations: Strategies, Processes, and Systems VI, 991016 (July 15, 2016); doi:10.1117/12.2231768; http://dx.doi.org/10.1117/12.2231768\n",
    "\n",
    "This is an introductory notebook that provides an easy-to-use interface for making Pandeia ETC calculations. The Pandeia engine called by this notebook only supports basic WFIRST imaging, IFU and Grism modes - the coronagraph and coronagraphic IFU spectrograph are not supported. This notebook has simplified some configuration options to present a summary of the steps most users will take to make WFIRST calculations. Users are encouraged to view <a href=\"https://jwst-docs.stsci.edu/display/JPP/JWST+Exposure+Time+Calculator+-+ETC\">the JWST documentation</a> for an overview of the features and functionality of the Pandeia engine and an explanation of the quantities calculated by Pandeia.\n",
    "\n",
    "\n",
    "\n",
    "Refer to the documentation links provided within the *Help* menu for general information on the Jupyter/IPython notebook interface and useful keyboard short-cuts.  The key things you need to know are that you must use ``Shift-Enter`` to execute a cell and that once a cell is executed, all data defined within it becomes available to all other cells. (You can also click the <i class=\"fa-step-forward fa\"></i> icon in the toolbar to run a cell.)\n",
    "\n",
    "This first cell sets up the imports and configuration that are required:  "
   ]
  },
  {
   "cell_type": "code",
   "execution_count": null,
   "metadata": {},
   "outputs": [],
   "source": [
    "%matplotlib inline\n",
    "%config InlineBackend.figure_format = 'svg'\n",
    "import sys\n",
    "import os\n",
    "import numpy as np\n",
    "import matplotlib\n",
    "from matplotlib import style\n",
    "#style.use('ggplot')  # see http://matplotlib.org/users/style_sheets.html\n",
    "                     # for info on matplotlib styles\n",
    "import json\n",
    "matplotlib.rcParams['axes.grid'] = False\n",
    "matplotlib.rcParams['image.origin'] = 'lower'\n",
    "import matplotlib.pyplot as plt\n",
    "\n",
    "# the first pandeia import is required to run calculations. the others are provided to\n",
    "# allow setting up calculations and loading/saving of inputs or results.\n",
    "from pandeia.engine.perform_calculation import perform_calculation\n",
    "from pandeia.engine.calc_utils import get_telescope_config, get_instrument_config, build_default_calc, build_default_source\n",
    "from pandeia.engine.io_utils import read_json, write_json"
   ]
  },
  {
   "cell_type": "markdown",
   "metadata": {},
   "source": [
    "To run Pandeia, you must give it a calculation. Calculations are python dictionaries that specify every aspect of the detector configuration, instrument configuration, details of all of the sources in the scene, and observing strategies.\n",
    "\n",
    "Let's break it down."
   ]
  },
  {
   "cell_type": "markdown",
   "metadata": {},
   "source": [
    "# First, we need to create a calculation. \n",
    "\n",
    "build_default_calc will create a default calculation for a WFIRST instrument, complete with a single faint point source.\n",
    "\n",
    "build_default_calc() takes three arguments: telescope, instrument, mode.\n",
    "\n",
    "Telescope is (obviously) wfirst.\n",
    "\n",
    "Instrument is either wfirstimager or wfirstifu\n",
    "\n",
    "The modes available for the WFIRST Imager are the Imager and the Grism; the only mode available for the IFU channel subsystem is the IFU.\n",
    "\n",
    "To set up default observations for one of these three modes, run one of the three following cells.\n",
    "\n",
    "### WFIRST Imager"
   ]
  },
  {
   "cell_type": "code",
   "execution_count": null,
   "metadata": {},
   "outputs": [],
   "source": [
    "calc = build_default_calc('wfirst','wfirstimager','imager')"
   ]
  },
  {
   "cell_type": "markdown",
   "metadata": {},
   "source": [
    "### WFIRST Grism"
   ]
  },
  {
   "cell_type": "code",
   "execution_count": null,
   "metadata": {},
   "outputs": [],
   "source": [
    "calc = build_default_calc('wfirst','wfirstimager','grism')"
   ]
  },
  {
   "cell_type": "markdown",
   "metadata": {},
   "source": [
    "### WFIRST IFU Channel"
   ]
  },
  {
   "cell_type": "code",
   "execution_count": null,
   "metadata": {},
   "outputs": [],
   "source": [
    "calc = build_default_calc('wfirst','wfirstifu','ifu')"
   ]
  },
  {
   "cell_type": "markdown",
   "metadata": {},
   "source": [
    "We should now have a complete calculation, so we can run it. Try the following, and if it doesn't work, check your setup."
   ]
  },
  {
   "cell_type": "code",
   "execution_count": null,
   "metadata": {},
   "outputs": [],
   "source": [
    "results = perform_calculation(calc)"
   ]
  },
  {
   "cell_type": "markdown",
   "metadata": {},
   "source": [
    "# Put together a scene of sources to observe\n",
    "\n",
    "The first thing we need to do is customize the scene. The default that's been created for us is a single central point source with a flat spectral energy distribution, normalized to a flux of 0.001 mjy at 2.0 microns, with no redshift or extinction."
   ]
  },
  {
   "cell_type": "code",
   "execution_count": null,
   "metadata": {},
   "outputs": [],
   "source": [
    "calc['scene'][0]['spectrum']['normalization']['norm_flux'] = 0.001 # mjy\n",
    "calc['scene'][0]['spectrum']['normalization']['norm_wave'] = 2.0 # microns\n",
    "calc['scene'][0]['spectrum']['normalization']['type'] = \"at_lambda\""
   ]
  },
  {
   "cell_type": "markdown",
   "metadata": {},
   "source": [
    "The type of flux normalization can be changed. Run the cell below to normalize to a bandpass\n",
    "- Valid bandpasses are:\n",
    "   - bessell,J (or H or K)\n",
    "   - cousins,I\n",
    "   - johnson,V (or I, J, K)\n",
    "   - sdss,u (or g, r, i, or z)\n",
    "   - spitzer,irac3.6 (or irac4.5, irac5.8, irac8.0, mips24)\n",
    "- You can also specify 'jwst' or 'hst' instead of 'photsys'; that requires specifying the instrument, mode, and filter though ('hst' and 'wfc3,ir,f140w', or 'jwst' and 'miri,imaging,f1280w'...)\n",
    "   "
   ]
  },
  {
   "cell_type": "code",
   "execution_count": null,
   "metadata": {},
   "outputs": [],
   "source": [
    "calc['scene'][0]['spectrum']['normalization']['norm_flux'] = 0.001 # mjy\n",
    "calc['scene'][0]['spectrum']['normalization']['norm_wave'] = 2.0 # microns\n",
    "calc['scene'][0]['spectrum']['normalization']['type'] = \"photsys\"\n",
    "calc['scene'][0]['spectrum']['normalization']['bandpass'] = \"sdss,z\""
   ]
  },
  {
   "cell_type": "markdown",
   "metadata": {},
   "source": [
    "There are also other options for the SED, most notably a simple blackbody curve, or phoenix models, or one of the Brown galaxy spectra.\n",
    "\n",
    "Run one of the following cells if you want to customize your source to a different SED type: "
   ]
  },
  {
   "cell_type": "code",
   "execution_count": null,
   "metadata": {},
   "outputs": [],
   "source": [
    "calc['scene'][0]['spectrum']['sed']['sed_type'] = 'blackbody' # shape\n",
    "calc['scene'][0]['spectrum']['sed']['temp'] = 5770.0 # brightness temperature"
   ]
  },
  {
   "cell_type": "code",
   "execution_count": null,
   "metadata": {},
   "outputs": [],
   "source": [
    "calc['scene'][0]['spectrum']['sed']['sed_type'] = 'phoenix' # shape\n",
    "calc['scene'][0]['spectrum']['sed']['key'] = 'g2v' # spectral type"
   ]
  },
  {
   "cell_type": "code",
   "execution_count": null,
   "metadata": {},
   "outputs": [],
   "source": [
    "calc['scene'][0]['spectrum']['sed']['sed_type'] = 'brown' # shape\n",
    "calc['scene'][0]['spectrum']['sed']['key'] = 'ngc_3521' # galaxy profile"
   ]
  },
  {
   "cell_type": "markdown",
   "metadata": {},
   "source": [
    "We can also change the shape of the source. Valid options are 'point', 'gaussian2d', 'sersic', 'sersic_scale', 'power', and 'flat'. \n",
    "\n",
    "- 'point' (the default) is a point source, represented as a simple impulse function to convolve with the PSF.\n",
    "- 'flat' is an ellipse step function, with a uniform distribution out to the bounding curve.\n",
    "- 'gaussian2d' is a two-dimensional gaussian function, where major and minor are now the 1-sigma boundaries.\n",
    "- 'sersic' is the sersic formulation from Graham & Driver (1992) where the semimajor and semiminor axes are for the effective radius.\n",
    "- 'sersic_scale' is NOT the typical sersic formulation from Graham & Driver (1992); it is an e-folding version, defined as $e^{-r(\\frac{1}{index})}$. index=4 is the standard De Vaucoulers profile, index 0.5 is similar to a gaussian, and index=1 is an exponential profile.\n",
    "- 'power' is a circular power-law profile, whose only options are r_core (radius of a flat central code, in arcseconds) and 'power_index', the power of the power law. The only valid normalization is surf_center.\n",
    "\n",
    "If you change the shape to gaussian2d, flat, or sersic, you have additional parameters to fill. In particular, there are options to change how you set the source brightness:\n",
    " - 'integ_infinity' Integrates the flux of the entire profile\n",
    " - 'surf_center' Normalizes to the surface brightness at the center of the profile\n",
    " - 'surf_scale' (for gaussian2d and sersic shapes only) Normalizes to the surface brightness at the scale (e-folding for sersic, 1-sigma for gaussian2d) radius.\n",
    " \n",
    "If you choose surf_center or surf_scale, you need to specify whether the brightness is per square arcsecond ('arcsec^2') or per steradian ('sr')"
   ]
  },
  {
   "cell_type": "code",
   "execution_count": null,
   "metadata": {},
   "outputs": [],
   "source": [
    "calc['scene'][0]['shape']['geometry'] = 'point' # default"
   ]
  },
  {
   "cell_type": "code",
   "execution_count": null,
   "metadata": {},
   "outputs": [],
   "source": [
    "calc['scene'][0]['shape']['geometry'] = 'gaussian2d'\n",
    "calc['scene'][0]['shape']['major'] = 0.5 # arcsec\n",
    "calc['scene'][0]['shape']['minor'] = 0.2 # arcsec\n",
    "calc['scene'][0]['shape']['norm_method'] = 'integ_infinity'\n",
    "calc['scene'][0]['shape']['surf_area_units'] = None\n",
    "# The default setup with integ_infinity normalization produces low SNR, so we will set a brighter source\n",
    "calc['scene'][0]['spectrum']['normalization']['norm_flux'] = 0.01 # mjy"
   ]
  },
  {
   "cell_type": "code",
   "execution_count": null,
   "metadata": {},
   "outputs": [],
   "source": [
    "calc['scene'][0]['shape']['geometry'] = 'flat'\n",
    "calc['scene'][0]['shape']['major'] = 0.5 # arcsec\n",
    "calc['scene'][0]['shape']['minor'] = 0.2 # arcsec\n",
    "calc['scene'][0]['shape']['norm_method'] = 'surf_center'\n",
    "calc['scene'][0]['shape']['surf_area_units'] = 'arcsec^2'"
   ]
  },
  {
   "cell_type": "code",
   "execution_count": null,
   "metadata": {},
   "outputs": [],
   "source": [
    "calc['scene'][0]['shape']['geometry'] = 'sersic'\n",
    "calc['scene'][0]['shape']['major'] = 0.5 # arcsec\n",
    "calc['scene'][0]['shape']['minor'] = 0.2 # arcsec\n",
    "calc['scene'][0]['shape']['sersic_index'] = 1.0\n",
    "calc['scene'][0]['shape']['norm_method'] = 'surf_scale'\n",
    "calc['scene'][0]['shape']['surf_area_units'] = 'sr'"
   ]
  },
  {
   "cell_type": "code",
   "execution_count": null,
   "metadata": {},
   "outputs": [],
   "source": [
    "calc['scene'][0]['shape']['geometry'] = 'sersic_scale'\n",
    "calc['scene'][0]['shape']['major'] = 0.5 # arcsec\n",
    "calc['scene'][0]['shape']['minor'] = 0.2 # arcsec\n",
    "calc['scene'][0]['shape']['sersic_index'] = 1.0\n",
    "calc['scene'][0]['shape']['norm_method'] = 'surf_scale'\n",
    "calc['scene'][0]['shape']['surf_area_units'] = 'sr'"
   ]
  },
  {
   "cell_type": "code",
   "execution_count": null,
   "metadata": {},
   "outputs": [],
   "source": [
    "calc['scene'][0]['shape']['geometry'] = 'power'\n",
    "calc['scene'][0]['shape']['r_core'] = 0.1 # arcsec\n",
    "calc['scene'][0]['shape']['power_index'] = 1.0\n",
    "calc['scene'][0]['shape']['norm_method'] = 'surf_center'\n",
    "calc['scene'][0]['shape']['surf_area_units'] = 'sr'"
   ]
  },
  {
   "cell_type": "markdown",
   "metadata": {},
   "source": [
    "We can also position the source: (though orientation obviously means little to a point source)"
   ]
  },
  {
   "cell_type": "code",
   "execution_count": null,
   "metadata": {},
   "outputs": [],
   "source": [
    "calc['scene'][0]['position']['x_offset'] = 0.0 # arcsec\n",
    "calc['scene'][0]['position']['y_offset'] = 0.0 # arcsec\n",
    "calc['scene'][0]['position']['orientation'] = 45.0 # degrees"
   ]
  },
  {
   "cell_type": "markdown",
   "metadata": {},
   "source": [
    "You can also add other sources, and customize them. The scene is a list of sources. The source we've been modifying is the zeroth source; anything you add will be calc['scene'][1] or higher when you customize it.\n",
    "\n",
    "The two cells below will:\n",
    "\n",
    "* Add a second source, configured as a point source\n",
    "* Customize it to be a K0III object at 23rd magnitude through the WFC3 F098M filter, offset by 1 arcsecond to the east"
   ]
  },
  {
   "cell_type": "code",
   "execution_count": null,
   "metadata": {},
   "outputs": [],
   "source": [
    "calc['scene'].append(build_default_source(geometry=\"point\"))"
   ]
  },
  {
   "cell_type": "code",
   "execution_count": null,
   "metadata": {},
   "outputs": [],
   "source": [
    "calc['scene'][1]['spectrum']['normalization']['norm_flux'] = 23\n",
    "calc['scene'][1]['spectrum']['normalization']['norm_fluxunit'] = \"vegamag\"\n",
    "calc['scene'][1]['spectrum']['normalization']['type'] = \"hst\"\n",
    "calc['scene'][1]['spectrum']['normalization']['bandpass'] = \"wfc3,ir,f098m\"\n",
    "\n",
    "calc['scene'][1]['spectrum']['sed']['sed_type'] = 'phoenix' # shape\n",
    "calc['scene'][1]['spectrum']['sed']['key'] = 'k0iii' # spectral type\n",
    "\n",
    "calc['scene'][1]['position']['x_offset'] = 1.0 # arcsec\n",
    "calc['scene'][1]['position']['y_offset'] = 0.0 # arcsec\n",
    "calc['scene'][1]['position']['orientation'] = 45.0 # degrees"
   ]
  },
  {
   "cell_type": "markdown",
   "metadata": {},
   "source": [
    "# Now let's set up the instrument."
   ]
  },
  {
   "cell_type": "markdown",
   "metadata": {},
   "source": [
    "### WFIRST Imager\n",
    "\n",
    "For the WFIRST Imager:\n",
    "\n",
    "- Filters\n",
    "   - f062 (R-band 0.62 microns)\n",
    "   - f087 (Z-band 0.87 microns) - the default\n",
    "   - f106 (Y-band 1.06 microns)\n",
    "   - f129 (J-band 1.29 microns)\n",
    "   - f146 (wide-band 1.46 microns)\n",
    "   - f158 (H-band 1.58 microns)\n",
    "   - f184 (f-band 1.84 microns)\n",
    "   \n",
    "There are no valid dispersive elements, and only one aperture: 'any'.\n",
    "\n",
    "The detector can be configured to give multiple exposures in multiple groups and integrations, and set the readmode. We are using the available JWST NIRCam configurations as stand-ins for the WFIRST detector, as the WFIRST WFI detectors are expected to be very similar to the NIRCam detectors. \n",
    "\n",
    "For the WFIRST imager, there are a number of readout patterns:\n",
    "\n",
    "- Readout Patterns:\n",
    "   - 'rapid'\n",
    "   - 'shallow2'\n",
    "   - 'shallow4'\n",
    "   - 'bright1'\n",
    "   - 'bright2'\n",
    "   - 'medium2'\n",
    "   - 'medium8'\n",
    "   - 'deep2' - the default\n",
    "   - 'deep8'\n",
    "\n",
    "- And a number of subarrays:\n",
    "   - '32x32'\n",
    "   - '64x64'\n",
    "   - '128x128'\n",
    "   - '256x256'\n",
    "   - '512x512'\n",
    "   - '1024x1024'\n",
    "   - '1024x16'\n",
    "   - 'full' (4096x4096) - the default\n",
    "   \n",
    "To best approximate readouts as currently envisioned for WFIRST, we suggest using the following:\n",
    " - Subarray '1024x1024', which has a similar frame time (2.7s) as that expected for the WFIRST WFI.\n",
    " - _To approximate the current design for the High Latitude Imaging Survey:_ readmode 'medium8' with Ngroups = 6\n",
    " - _To approximate the current design for the Exoplanet Microlensing Survey:_ readmode 'shallow2' with Ngroups = 4"
   ]
  },
  {
   "cell_type": "code",
   "execution_count": null,
   "metadata": {},
   "outputs": [],
   "source": [
    "calc['configuration']['instrument']['filter'] = \"f087\"\n",
    "calc['configuration']['instrument']['aperture'] = \"any\"\n",
    "calc['configuration']['instrument']['disperser'] = None\n",
    "calc['configuration']['detector']['ngroup'] = 6 # groups per integration\n",
    "calc['configuration']['detector']['nint'] = 1 # integrations per exposure\n",
    "calc['configuration']['detector']['nexp'] = 1 # exposures\n",
    "calc['configuration']['detector']['readout_pattern'] = \"medium8\"\n",
    "calc['configuration']['detector']['subarray'] = \"1024x1024\""
   ]
  },
  {
   "cell_type": "markdown",
   "metadata": {},
   "source": [
    "### WFIRST Grism\n",
    "\n",
    "For the WFIRST Grism, there is much less to configure. There are no filters, and two dispersers: The grism and the prism.\n",
    "\n",
    "* Dispersers:\n",
    "  * g150 (default)\n",
    "  * p120\n",
    "  \n",
    "The readout pattern and subarray options are the same as the WFIRST Imager imaging mode.\n",
    "\n",
    "To approximate the current design for the High Latitude Spectroscopic Survey, we recommend using subarray '1024x1024', readmode 'medium8', and Ngroups = 13"
   ]
  },
  {
   "cell_type": "code",
   "execution_count": null,
   "metadata": {},
   "outputs": [],
   "source": [
    "calc['configuration']['instrument']['filter'] = None\n",
    "calc['configuration']['instrument']['aperture'] = \"grism\"\n",
    "calc['configuration']['instrument']['disperser'] = \"g150\"\n",
    "calc['configuration']['detector']['ngroup'] = 13 # groups per integration\n",
    "calc['configuration']['detector']['nint'] = 1 # integrations per exposure\n",
    "calc['configuration']['detector']['nexp'] = 1 # exposures\n",
    "calc['configuration']['detector']['readout_pattern'] = \"medium8\"\n",
    "calc['configuration']['detector']['subarray'] = \"1024x1024\""
   ]
  },
  {
   "cell_type": "markdown",
   "metadata": {},
   "source": [
    "### WFIRST IFU Channel\n",
    "\n",
    "The WFIRST IFU Channel is similarly simple to configure.\n",
    "The only valid filter is \"clear\", to be used with the \"prism\" disperser in the \"ifu\" aperture, and \"full\" subarray. You can select between 'nrs' (the default) and 'nrsrapid' readmodes.\n",
    "\n",
    "(We are using JWST NIRSpec settings as placeholders for the WFIRST IFU detector settings.)"
   ]
  },
  {
   "cell_type": "code",
   "execution_count": null,
   "metadata": {},
   "outputs": [],
   "source": [
    "calc['configuration']['instrument']['filter'] = \"clear\"\n",
    "calc['configuration']['instrument']['aperture'] = \"ifu\"\n",
    "calc['configuration']['instrument']['disperser'] = \"prism\"\n",
    "calc['configuration']['detector']['ngroup'] = 10 # groups per integration\n",
    "calc['configuration']['detector']['nint'] = 1 # integrations per exposures\n",
    "calc['configuration']['detector']['nexp'] = 1 # exposures\n",
    "calc['configuration']['detector']['readout_pattern'] = \"nrs\"\n",
    "calc['configuration']['detector']['subarray'] = \"full\""
   ]
  },
  {
   "cell_type": "markdown",
   "metadata": {},
   "source": [
    "# We can now set up the observing strategy. \n",
    "\n",
    "### WFIRST Imager\n",
    "For the WFIRST imager, there are a few options to set up the location, extraction aperture, and background extraction annulus through which the flux and SNR will be calculated. The only strategy available for the imager is 'imagingapphot' (Imaging Aperture Photometry) and is already set by default."
   ]
  },
  {
   "cell_type": "code",
   "execution_count": null,
   "metadata": {},
   "outputs": [],
   "source": [
    "calc['strategy']['target_xy'] = [0.0,0.0] # x,y location to extract, in arcsec\n",
    "calc['strategy']['aperture_size'] = 0.2 # radius of extraction aperture, in arcsec\n",
    "calc['strategy']['sky_annulus'] = [0.4,0.6] # inner and outer radii of background subtraction annulus, in arcsec"
   ]
  },
  {
   "cell_type": "markdown",
   "metadata": {},
   "source": [
    "### WFIRST Grism\n",
    "\n",
    "For the WFIRST grism, the only strategy available is 'specapphot' (Aperture Spectral Extraction) and again does not need to be set. \n",
    "\n",
    "The rest of the options are quite similar to the imager options, with the addition of a reference wavelength at which you want the flux and SNR to be calculated for the numerical results. If it is set to None, Pandeia will choose the central wavelength of the disperser."
   ]
  },
  {
   "cell_type": "code",
   "execution_count": null,
   "metadata": {},
   "outputs": [],
   "source": [
    "calc['strategy']['target_xy'] = [0.0,0.0] # x,y location to extract, in arcsec\n",
    "calc['strategy']['aperture_size'] = 0.16 # radius of extraction aperture, in arcsec\n",
    "calc['strategy']['sky_annulus'] = [0.24,0.64] # inner and outer radii of background subtraction annulus, in arcsec\n",
    "calc['strategy']['reference_wavelength'] = None # Wavelength value (between 1.35 and 1.89 microns, non-inclusive)"
   ]
  },
  {
   "cell_type": "markdown",
   "metadata": {},
   "source": [
    "### WFIRST IFU Channel\n",
    "\n",
    "For WFIRST IFU, there are three different observation strategies:\n",
    " - 'ifuapphot': IFU Aperture Photometry. An IFU without dithers, which will be displayed in 2D as a slice of the resulting image cube (at the reference wavelength)\n",
    " - 'ifunodinscene': IFU Nod (in-scene) - the default. The same as the above, but with an dither smaller (generally <5 arcsec) than the FOV size.\n",
    " - 'ifunodoffscene': IFU Nod (off-scene). The same as the above, but the dither is larger (generally >10 arcsec) than the FOV size.\n",
    "    \n",
    "Note that Pandeia doesn't currently shift when it adds the dithers; this is a known limitation."
   ]
  },
  {
   "cell_type": "code",
   "execution_count": null,
   "metadata": {},
   "outputs": [],
   "source": [
    "calc['strategy']['method'] = 'ifuapphot'\n",
    "calc['strategy']['aperture_size'] = 0.2 # radius of extraction aperture, in arcsec\n",
    "calc['strategy']['target_xy'] = [0.0,0.0] # x,y location to extract, in arcsec\n",
    "calc['strategy']['reference_wavelength'] = None # Wavelength value (between 0.4 and 2.0 microns, non-inclusive) at which the 2D images and numerical outputs will be computed.\n",
    "if 'dithers' in calc['strategy'].keys():\n",
    "    del calc['strategy']['dithers']"
   ]
  },
  {
   "cell_type": "code",
   "execution_count": null,
   "metadata": {},
   "outputs": [],
   "source": [
    "calc['strategy']['method'] = 'ifunodinscene'\n",
    "calc['strategy']['aperture_size'] = 0.2 # radius of extraction aperture, in arcsec\n",
    "calc['strategy']['target_xy'] = [0.0,0.0] # x,y location to extract, in arcsec\n",
    "calc['strategy']['dithers'] = [{'x':0.0,'y':0.0},{'x':1.0,'y':1.0}] # x,y offsets of dithers, in arcsec\n",
    "calc['strategy']['reference_wavelength'] = None # Wavelength value (between 0.4 and 2.0 microns, non-inclusive) at which the 2D images and numerical outputs will be computed."
   ]
  },
  {
   "cell_type": "code",
   "execution_count": null,
   "metadata": {},
   "outputs": [],
   "source": [
    "calc['strategy']['method'] = 'ifunodoffscene'\n",
    "calc['strategy']['aperture_size'] = 0.2 # radius of extraction aperture, in arcsec\n",
    "calc['strategy']['target_xy'] = [0.0,0.0] # x,y location to extract, in arcsec\n",
    "calc['strategy']['dithers'] = [{'x':0.0,'y':0.0},{'x':50.0,'y':0.0}] # x,y offsets of dithers, in arcsec\n",
    "calc['strategy']['reference_wavelength'] = None # Wavelength value (between 0.4 and 2.0 microns, non-inclusive) at which the 2D images and numerical outputs will be computed."
   ]
  },
  {
   "cell_type": "markdown",
   "metadata": {},
   "source": [
    "# Calculate!\n",
    "\n",
    "We now have a formatted calculation we can run, so let's do that."
   ]
  },
  {
   "cell_type": "code",
   "execution_count": null,
   "metadata": {},
   "outputs": [],
   "source": [
    "results = perform_calculation(calc)"
   ]
  },
  {
   "cell_type": "markdown",
   "metadata": {},
   "source": [
    "Let's unpack the results.  Run the following to see the basic outputs - flux, SNR, exposure time, etc. If the SNR is extremely low, check your source normalization, or increase the number of groups or exposures."
   ]
  },
  {
   "cell_type": "code",
   "execution_count": null,
   "metadata": {},
   "outputs": [],
   "source": [
    "# print the scalar products with what (I think) are the correct units.\n",
    "print(\"------------------\\n     RESULTS    \\n------------------\")\n",
    "for x in sorted(results[\"scalar\"]):\n",
    "    basename = \"{:20}: {}\"\n",
    "    if \"time\" in x:\n",
    "        basename += \" sec\"\n",
    "    elif \"size\" in x or \"offset\" in x:\n",
    "        basename += \" arcsec\"\n",
    "    elif \"area\" in x:  # checking this before background means the\n",
    "                       # background_area will be given the correct units.\n",
    "        basename += \" pixel^2\"\n",
    "    elif \"wavelength\" in x:\n",
    "        basename += \" microns\"\n",
    "    elif \"background\" in x or \"extracted\" in x:\n",
    "        basename += \" e-/sec\"\n",
    "    else:\n",
    "        pass\n",
    "    print(basename.format(x,results[\"scalar\"][x]))\n",
    "\n",
    "# also print out the value and location of the best SNR\n",
    "bestsn = np.argmax(results[\"1d\"][\"sn\"][1])\n",
    "print(\"------------------\")\n",
    "print(\"Highest SNR: {:.3f} at {:.3f} microns\".format(results[\"1d\"][\"sn\"][1][bestsn], results[\"1d\"][\"sn\"][0][bestsn]))\n",
    "if len(results['warnings']) > 0:\n",
    "    print(\"----------------\\n  WARNINGS  \\n----------------\")\n",
    "    for x in results['warnings']:\n",
    "        print(\"{:20}: {}\".format(x,results['warnings'][x]))"
   ]
  },
  {
   "cell_type": "markdown",
   "metadata": {},
   "source": [
    "Let's also look at some plots. Here are the detector SNR, signal, and saturation"
   ]
  },
  {
   "cell_type": "code",
   "execution_count": null,
   "metadata": {},
   "outputs": [],
   "source": [
    "fig1 = plt.figure()\n",
    "ax1 = fig1.add_subplot(131)\n",
    "ax2 = fig1.add_subplot(132)\n",
    "ax3 = fig1.add_subplot(133)\n",
    "ax1.imshow(results['2d']['snr'])\n",
    "ax2.imshow(results['2d']['detector'])\n",
    "ax3.imshow(results['2d']['saturation'])\n",
    "ax1.set_title('SNR')\n",
    "ax2.set_title('Detector')\n",
    "ax3.set_title('Saturation')\n",
    "ax1.text(0.5,0.95,'Mean: {0:6.5f}'.format(np.mean(results['2d']['snr'])),horizontalalignment='center',transform=ax1.transAxes,color='#FFFFFF')\n",
    "ax1.text(0.5,0.05,'Median: {0:6.5f}'.format(np.median(results['2d']['snr'])),horizontalalignment='center',transform=ax1.transAxes,color='#FFFFFF')\n",
    "ax2.text(0.5,0.95,'Mean: {0:6.5f}'.format(np.mean(results['2d']['detector'])),horizontalalignment='center',transform=ax2.transAxes,color='#FFFFFF')\n",
    "ax2.text(0.5,0.05,'Median: {0:6.5f}'.format(np.median(results['2d']['detector'])),horizontalalignment='center',transform=ax2.transAxes,color='#FFFFFF')\n",
    "ax3.text(0.5,0.95,'Max: {0:}'.format(np.max(results['2d']['saturation'])),horizontalalignment='center',transform=ax3.transAxes,color='#FFFFFF')\n",
    "ax3.text(0.5,0.05,'Min: {0:}'.format(np.min(results['2d']['saturation'])),horizontalalignment='center',transform=ax3.transAxes,color='#FFFFFF')\n",
    "fig1.tight_layout()"
   ]
  },
  {
   "cell_type": "markdown",
   "metadata": {},
   "source": [
    "We can also see some 1D plots. They won't look like much in Imager mode."
   ]
  },
  {
   "cell_type": "code",
   "execution_count": null,
   "metadata": {},
   "outputs": [],
   "source": [
    "fig2 = plt.figure()\n",
    "ax1 = fig2.add_subplot(121)\n",
    "ax2 = fig2.add_subplot(122)\n",
    "if len(results['1d']['sn'][0]) == 1:\n",
    "    ax1.scatter(results['1d']['sn'][0],results['1d']['sn'][1])\n",
    "    ax2.scatter(results['1d']['extracted_flux_plus_bg'][0],results['1d']['extracted_flux_plus_bg'][1])\n",
    "else:\n",
    "    ax1.plot(results['1d']['sn'][0],results['1d']['sn'][1])\n",
    "    ax2.plot(results['1d']['extracted_flux_plus_bg'][0],results['1d']['extracted_flux_plus_bg'][1])\n",
    "ax1.set_title('SNR')\n",
    "ax2.set_title('Extracted Flux w/ Bkgd')\n",
    "fig2.tight_layout()"
   ]
  },
  {
   "cell_type": "markdown",
   "metadata": {},
   "source": [
    "You can dump the calculation to a file (JSON format, which Python's json module can reconstruct into a dictionary) by running the following cell, and then copying the contents into a file."
   ]
  },
  {
   "cell_type": "code",
   "execution_count": null,
   "metadata": {},
   "outputs": [],
   "source": [
    "print(json.dumps(calc, sort_keys=True, indent=4, separators=(',', ': ')))"
   ]
  },
  {
   "cell_type": "markdown",
   "metadata": {
    "collapsed": true
   },
   "source": [
    "The saved file can be loaded back into a standalone Python instance (or Python script) and run through the engine.\n",
    "\n",
    "For instance, if you saved your calculation to a file called input.json:"
   ]
  },
  {
   "cell_type": "raw",
   "metadata": {},
   "source": [
    "calcfile = open('input.json','r')\n",
    "calc = json.load(calcfile)\n",
    "\n",
    "results = perform_calculation(calc)"
   ]
  },
  {
   "cell_type": "code",
   "execution_count": null,
   "metadata": {},
   "outputs": [],
   "source": []
  }
 ],
 "metadata": {
  "kernelspec": {
   "display_name": "Python [default]",
   "language": "python",
   "name": "python3"
  },
  "language_info": {
   "codemirror_mode": {
    "name": "ipython",
    "version": 3
   },
   "file_extension": ".py",
   "mimetype": "text/x-python",
   "name": "python",
   "nbconvert_exporter": "python",
   "pygments_lexer": "ipython3",
   "version": "3.6.5"
  }
 },
 "nbformat": 4,
 "nbformat_minor": 1
}
